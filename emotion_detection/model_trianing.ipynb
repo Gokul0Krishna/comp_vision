{
 "cells": [
  {
   "cell_type": "code",
   "execution_count": 35,
   "id": "008154cd",
   "metadata": {},
   "outputs": [],
   "source": [
    "import os\n",
    "import pandas as pd\n",
    "from PIL import Image\n",
    "import numpy as np"
   ]
  },
  {
   "cell_type": "code",
   "execution_count": 27,
   "id": "7be26878",
   "metadata": {},
   "outputs": [],
   "source": [
    "trainimagelist=[]\n",
    "traincategorylist=[]\n",
    "a=0\n",
    "name=[\"angry\",\"disgust\",\"fear\",\"happy\",\"neutral\",\"sad\",\"surprise\"]\n",
    "for i in os.listdir(r\"C:\\Users\\ASUS\\OneDrive\\Desktop\\code\\datasets\\archive\\train\"):\n",
    "    count=0\n",
    "    path=os.path.join(r\"C:\\Users\\ASUS\\OneDrive\\Desktop\\code\\datasets\\archive\\train\",i)\n",
    "    for j in os.listdir(path):\n",
    "        if count==400:\n",
    "            break\n",
    "        imagepath=os.path.join(path,j)\n",
    "        trainimagelist.append(imagepath)\n",
    "        traincategorylist.append(name[a])\n",
    "        count+=1\n",
    "    a+=1\n",
    "\n"
   ]
  },
  {
   "cell_type": "code",
   "execution_count": 28,
   "id": "66332250",
   "metadata": {},
   "outputs": [
    {
     "data": {
      "text/plain": [
       "2800"
      ]
     },
     "execution_count": 28,
     "metadata": {},
     "output_type": "execute_result"
    }
   ],
   "source": [
    "len(traincategorylist)"
   ]
  },
  {
   "cell_type": "code",
   "execution_count": 29,
   "id": "03769265",
   "metadata": {},
   "outputs": [],
   "source": [
    "valimagelist=[]\n",
    "valcategorylist=[]\n",
    "a=0\n",
    "name=[\"angry\",\"disgust\",\"fear\",\"happy\",\"neutral\",\"sad\",\"surprise\"]\n",
    "for i in os.listdir(r\"C:\\Users\\ASUS\\OneDrive\\Desktop\\code\\datasets\\archive\\test\"):\n",
    "    count=0\n",
    "    path=os.path.join(r\"C:\\Users\\ASUS\\OneDrive\\Desktop\\code\\datasets\\archive\\test\",i)\n",
    "    for j in os.listdir(path):\n",
    "        if count==100:\n",
    "            break\n",
    "        imagepath=os.path.join(path,j)\n",
    "        valimagelist.append(imagepath)\n",
    "        valcategorylist.append(name[a])\n",
    "        count+=1\n",
    "    a+=1"
   ]
  },
  {
   "cell_type": "code",
   "execution_count": 30,
   "id": "d7443b31",
   "metadata": {},
   "outputs": [
    {
     "data": {
      "text/plain": [
       "700"
      ]
     },
     "execution_count": 30,
     "metadata": {},
     "output_type": "execute_result"
    }
   ],
   "source": [
    "len(valcategorylist)"
   ]
  },
  {
   "cell_type": "code",
   "execution_count": 31,
   "id": "92e692c0",
   "metadata": {},
   "outputs": [],
   "source": [
    "testimagelist=[]\n",
    "testcategorylist=[]\n",
    "a=0\n",
    "name=[\"angry\",\"disgust\",\"fear\",\"happy\",\"neutral\",\"sad\",\"surprise\"]\n",
    "for i in os.listdir(r\"C:\\Users\\ASUS\\OneDrive\\Desktop\\code\\datasets\\archive\\test\"):\n",
    "    count=0\n",
    "    path=os.path.join(r\"C:\\Users\\ASUS\\OneDrive\\Desktop\\code\\datasets\\archive\\test\",i)\n",
    "    for j in os.listdir(path):\n",
    "        if count>100 and count<200:\n",
    "            imagepath=os.path.join(path,j)\n",
    "            testimagelist.append(imagepath)\n",
    "            testcategorylist.append(name[a])\n",
    "        count+=1\n",
    "    a+=1"
   ]
  },
  {
   "cell_type": "code",
   "execution_count": 32,
   "id": "890d4e80",
   "metadata": {},
   "outputs": [
    {
     "data": {
      "text/plain": [
       "604"
      ]
     },
     "execution_count": 32,
     "metadata": {},
     "output_type": "execute_result"
    }
   ],
   "source": [
    "len(testcategorylist)"
   ]
  },
  {
   "cell_type": "code",
   "execution_count": 37,
   "id": "a2e90e8c",
   "metadata": {},
   "outputs": [],
   "source": [
    "trainimg=[]\n",
    "for i in trainimagelist:\n",
    "    imge=Image.open(i)\n",
    "    imge=imge.resize((224,224))\n",
    "    imgearray=np.array(imge)\n",
    "    imgearray=imgearray/225.0\n",
    "    trainimg.append(imgearray)"
   ]
  },
  {
   "cell_type": "code",
   "execution_count": 38,
   "id": "42c052d1",
   "metadata": {},
   "outputs": [],
   "source": [
    "valimg=[]\n",
    "for i in valimagelist:\n",
    "    imge=Image.open(i)\n",
    "    imge=imge.resize((224,224))\n",
    "    imgearray=np.array(imge)\n",
    "    imgearray=imgearray/225.0\n",
    "    valimg.append(imgearray)"
   ]
  },
  {
   "cell_type": "code",
   "execution_count": 39,
   "id": "a4bfc486",
   "metadata": {},
   "outputs": [],
   "source": [
    "testimg=[]\n",
    "for i in testimagelist:\n",
    "    imge=Image.open(i)\n",
    "    imge=imge.resize((224,224))\n",
    "    imgearray=np.array(imge)\n",
    "    imgearray=imgearray/225.0\n",
    "    testimg.append(imgearray)"
   ]
  },
  {
   "cell_type": "code",
   "execution_count": 51,
   "id": "a5554561",
   "metadata": {},
   "outputs": [],
   "source": [
    "traindf=pd.DataFrame({\"X\":trainimg})\n",
    "valdf=pd.DataFrame({\"X\":valimg})\n",
    "testdf=pd.DataFrame({\"X\":testimg})"
   ]
  },
  {
   "cell_type": "code",
   "execution_count": 52,
   "id": "bab6a0c2",
   "metadata": {},
   "outputs": [],
   "source": [
    "cl=pd.Series(traincategorylist)\n",
    "tay=pd.get_dummies(cl,dtype=float)\n",
    "\n",
    "cl=pd.Series(valcategorylist)\n",
    "vay=pd.get_dummies(cl,dtype=float)\n",
    "\n",
    "cl=pd.Series(testcategorylist)\n",
    "tey=pd.get_dummies(cl,dtype=float)"
   ]
  },
  {
   "cell_type": "code",
   "execution_count": null,
   "id": "87fec4c1",
   "metadata": {},
   "outputs": [],
   "source": [
    "traindf=pd.concat([traindf,tay],axis=1)\n",
    "valdf=pd.concat([valdf,vay],axis=1)\n",
    "testdf=pd.concat([testdf,tey],axis=1)"
   ]
  },
  {
   "cell_type": "code",
   "execution_count": null,
   "id": "d2cdc1d2",
   "metadata": {},
   "outputs": [
    {
     "data": {
      "text/html": [
       "<div>\n",
       "<style scoped>\n",
       "    .dataframe tbody tr th:only-of-type {\n",
       "        vertical-align: middle;\n",
       "    }\n",
       "\n",
       "    .dataframe tbody tr th {\n",
       "        vertical-align: top;\n",
       "    }\n",
       "\n",
       "    .dataframe thead th {\n",
       "        text-align: right;\n",
       "    }\n",
       "</style>\n",
       "<table border=\"1\" class=\"dataframe\">\n",
       "  <thead>\n",
       "    <tr style=\"text-align: right;\">\n",
       "      <th></th>\n",
       "      <th>X</th>\n",
       "      <th>angry</th>\n",
       "      <th>disgust</th>\n",
       "      <th>fear</th>\n",
       "      <th>happy</th>\n",
       "      <th>neutral</th>\n",
       "      <th>sad</th>\n",
       "      <th>surprise</th>\n",
       "    </tr>\n",
       "  </thead>\n",
       "  <tbody>\n",
       "    <tr>\n",
       "      <th>0</th>\n",
       "      <td>[[0.22666666666666666, 0.2222222222222222, 0.2...</td>\n",
       "      <td>1.0</td>\n",
       "      <td>0.0</td>\n",
       "      <td>0.0</td>\n",
       "      <td>0.0</td>\n",
       "      <td>0.0</td>\n",
       "      <td>0.0</td>\n",
       "      <td>0.0</td>\n",
       "    </tr>\n",
       "    <tr>\n",
       "      <th>1</th>\n",
       "      <td>[[0.13777777777777778, 0.13333333333333333, 0....</td>\n",
       "      <td>1.0</td>\n",
       "      <td>0.0</td>\n",
       "      <td>0.0</td>\n",
       "      <td>0.0</td>\n",
       "      <td>0.0</td>\n",
       "      <td>0.0</td>\n",
       "      <td>0.0</td>\n",
       "    </tr>\n",
       "    <tr>\n",
       "      <th>2</th>\n",
       "      <td>[[0.0, 0.0, 0.0, 0.0, 0.0, 0.0, 0.0, 0.0, 0.0,...</td>\n",
       "      <td>1.0</td>\n",
       "      <td>0.0</td>\n",
       "      <td>0.0</td>\n",
       "      <td>0.0</td>\n",
       "      <td>0.0</td>\n",
       "      <td>0.0</td>\n",
       "      <td>0.0</td>\n",
       "    </tr>\n",
       "    <tr>\n",
       "      <th>3</th>\n",
       "      <td>[[0.7155555555555555, 0.7111111111111111, 0.70...</td>\n",
       "      <td>1.0</td>\n",
       "      <td>0.0</td>\n",
       "      <td>0.0</td>\n",
       "      <td>0.0</td>\n",
       "      <td>0.0</td>\n",
       "      <td>0.0</td>\n",
       "      <td>0.0</td>\n",
       "    </tr>\n",
       "    <tr>\n",
       "      <th>4</th>\n",
       "      <td>[[0.9422222222222222, 0.9422222222222222, 0.94...</td>\n",
       "      <td>1.0</td>\n",
       "      <td>0.0</td>\n",
       "      <td>0.0</td>\n",
       "      <td>0.0</td>\n",
       "      <td>0.0</td>\n",
       "      <td>0.0</td>\n",
       "      <td>0.0</td>\n",
       "    </tr>\n",
       "  </tbody>\n",
       "</table>\n",
       "</div>"
      ],
      "text/plain": [
       "                                                   X  angry  disgust  fear  \\\n",
       "0  [[0.22666666666666666, 0.2222222222222222, 0.2...    1.0      0.0   0.0   \n",
       "1  [[0.13777777777777778, 0.13333333333333333, 0....    1.0      0.0   0.0   \n",
       "2  [[0.0, 0.0, 0.0, 0.0, 0.0, 0.0, 0.0, 0.0, 0.0,...    1.0      0.0   0.0   \n",
       "3  [[0.7155555555555555, 0.7111111111111111, 0.70...    1.0      0.0   0.0   \n",
       "4  [[0.9422222222222222, 0.9422222222222222, 0.94...    1.0      0.0   0.0   \n",
       "\n",
       "   happy  neutral  sad  surprise  \n",
       "0    0.0      0.0  0.0       0.0  \n",
       "1    0.0      0.0  0.0       0.0  \n",
       "2    0.0      0.0  0.0       0.0  \n",
       "3    0.0      0.0  0.0       0.0  \n",
       "4    0.0      0.0  0.0       0.0  "
      ]
     },
     "execution_count": 56,
     "metadata": {},
     "output_type": "execute_result"
    }
   ],
   "source": []
  }
 ],
 "metadata": {
  "kernelspec": {
   "display_name": "py3-TF2.0",
   "language": "python",
   "name": "python3"
  },
  "language_info": {
   "codemirror_mode": {
    "name": "ipython",
    "version": 3
   },
   "file_extension": ".py",
   "mimetype": "text/x-python",
   "name": "python",
   "nbconvert_exporter": "python",
   "pygments_lexer": "ipython3",
   "version": "3.10.16"
  }
 },
 "nbformat": 4,
 "nbformat_minor": 5
}
