{
 "cells": [
  {
   "cell_type": "code",
   "execution_count": 1,
   "id": "008154cd",
   "metadata": {},
   "outputs": [],
   "source": [
    "import os\n",
    "import pandas as pd\n",
    "from PIL import Image\n",
    "import numpy as np\n",
    "import tensorflow as tf\n",
    "from tensorflow.keras import datasets, layers, models \n",
    "import matplotlib.pyplot as plt"
   ]
  },
  {
   "cell_type": "code",
   "execution_count": 2,
   "id": "7be26878",
   "metadata": {},
   "outputs": [],
   "source": [
    "trainimagelist=[]\n",
    "traincategorylist=[]\n",
    "a=0\n",
    "name=[\"angry\",\"disgust\",\"fear\",\"happy\",\"neutral\",\"sad\",\"surprise\"]\n",
    "for i in os.listdir(r\"C:\\Users\\ASUS\\OneDrive\\Desktop\\code\\datasets\\archive\\train\"):\n",
    "    count=0\n",
    "    path=os.path.join(r\"C:\\Users\\ASUS\\OneDrive\\Desktop\\code\\datasets\\archive\\train\",i)\n",
    "    for j in os.listdir(path):\n",
    "        if count==400:\n",
    "            break\n",
    "        imagepath=os.path.join(path,j)\n",
    "        trainimagelist.append(imagepath)\n",
    "        traincategorylist.append(name[a])\n",
    "        count+=1\n",
    "    a+=1\n",
    "\n"
   ]
  },
  {
   "cell_type": "code",
   "execution_count": 3,
   "id": "66332250",
   "metadata": {},
   "outputs": [
    {
     "data": {
      "text/plain": [
       "2800"
      ]
     },
     "execution_count": 3,
     "metadata": {},
     "output_type": "execute_result"
    }
   ],
   "source": [
    "len(traincategorylist)"
   ]
  },
  {
   "cell_type": "code",
   "execution_count": 4,
   "id": "03769265",
   "metadata": {},
   "outputs": [],
   "source": [
    "valimagelist=[]\n",
    "valcategorylist=[]\n",
    "a=0\n",
    "name=[\"angry\",\"disgust\",\"fear\",\"happy\",\"neutral\",\"sad\",\"surprise\"]\n",
    "for i in os.listdir(r\"C:\\Users\\ASUS\\OneDrive\\Desktop\\code\\datasets\\archive\\test\"):\n",
    "    count=0\n",
    "    path=os.path.join(r\"C:\\Users\\ASUS\\OneDrive\\Desktop\\code\\datasets\\archive\\test\",i)\n",
    "    for j in os.listdir(path):\n",
    "        if count==100:\n",
    "            break\n",
    "        imagepath=os.path.join(path,j)\n",
    "        valimagelist.append(imagepath)\n",
    "        valcategorylist.append(name[a])\n",
    "        count+=1\n",
    "    a+=1"
   ]
  },
  {
   "cell_type": "code",
   "execution_count": 5,
   "id": "d7443b31",
   "metadata": {},
   "outputs": [
    {
     "data": {
      "text/plain": [
       "700"
      ]
     },
     "execution_count": 5,
     "metadata": {},
     "output_type": "execute_result"
    }
   ],
   "source": [
    "len(valcategorylist)"
   ]
  },
  {
   "cell_type": "code",
   "execution_count": 6,
   "id": "92e692c0",
   "metadata": {},
   "outputs": [],
   "source": [
    "testimagelist=[]\n",
    "testcategorylist=[]\n",
    "a=0\n",
    "name=[\"angry\",\"disgust\",\"fear\",\"happy\",\"neutral\",\"sad\",\"surprise\"]\n",
    "for i in os.listdir(r\"C:\\Users\\ASUS\\OneDrive\\Desktop\\code\\datasets\\archive\\test\"):\n",
    "    count=0\n",
    "    path=os.path.join(r\"C:\\Users\\ASUS\\OneDrive\\Desktop\\code\\datasets\\archive\\test\",i)\n",
    "    for j in os.listdir(path):\n",
    "        if count>100 and count<200:\n",
    "            imagepath=os.path.join(path,j)\n",
    "            testimagelist.append(imagepath)\n",
    "            testcategorylist.append(name[a])\n",
    "        count+=1\n",
    "    a+=1"
   ]
  },
  {
   "cell_type": "code",
   "execution_count": 7,
   "id": "890d4e80",
   "metadata": {},
   "outputs": [
    {
     "data": {
      "text/plain": [
       "604"
      ]
     },
     "execution_count": 7,
     "metadata": {},
     "output_type": "execute_result"
    }
   ],
   "source": [
    "len(testcategorylist)"
   ]
  },
  {
   "cell_type": "code",
   "execution_count": 8,
   "id": "a2e90e8c",
   "metadata": {},
   "outputs": [],
   "source": [
    "trainimg=[]\n",
    "for i in trainimagelist:\n",
    "    imge=Image.open(i)\n",
    "    imge=imge.resize((224,224))\n",
    "    imgearray=np.array(imge)\n",
    "    imgearray=imgearray/225.0\n",
    "    trainimg.append(imgearray)"
   ]
  },
  {
   "cell_type": "code",
   "execution_count": 9,
   "id": "42c052d1",
   "metadata": {},
   "outputs": [],
   "source": [
    "valimg=[]\n",
    "for i in valimagelist:\n",
    "    imge=Image.open(i)\n",
    "    imge=imge.resize((224,224))\n",
    "    imgearray=np.array(imge)\n",
    "    imgearray=imgearray/225.0\n",
    "    valimg.append(imgearray)"
   ]
  },
  {
   "cell_type": "code",
   "execution_count": 10,
   "id": "a4bfc486",
   "metadata": {},
   "outputs": [],
   "source": [
    "testimg=[]\n",
    "for i in testimagelist:\n",
    "    imge=Image.open(i)\n",
    "    imge=imge.resize((224,224))\n",
    "    imgearray=np.array(imge)\n",
    "    imgearray=imgearray/225.0\n",
    "    testimg.append(imgearray)"
   ]
  },
  {
   "cell_type": "code",
   "execution_count": 11,
   "id": "a5554561",
   "metadata": {},
   "outputs": [],
   "source": [
    "traindf=pd.DataFrame({\"X\":trainimg})\n",
    "valdf=pd.DataFrame({\"X\":valimg})\n",
    "testdf=pd.DataFrame({\"X\":testimg})"
   ]
  },
  {
   "cell_type": "code",
   "execution_count": 12,
   "id": "bab6a0c2",
   "metadata": {},
   "outputs": [],
   "source": [
    "cl=pd.Series(traincategorylist)\n",
    "tay=pd.get_dummies(cl,dtype=float)\n",
    "\n",
    "cl=pd.Series(valcategorylist)\n",
    "vay=pd.get_dummies(cl,dtype=float)\n",
    "\n",
    "cl=pd.Series(testcategorylist)\n",
    "tey=pd.get_dummies(cl,dtype=float)"
   ]
  },
  {
   "cell_type": "code",
   "execution_count": 13,
   "id": "70076c47",
   "metadata": {},
   "outputs": [
    {
     "data": {
      "text/plain": [
       "(604, 7)"
      ]
     },
     "execution_count": 13,
     "metadata": {},
     "output_type": "execute_result"
    }
   ],
   "source": [
    "tey.shape"
   ]
  },
  {
   "cell_type": "code",
   "execution_count": 14,
   "id": "87fec4c1",
   "metadata": {},
   "outputs": [],
   "source": [
    "traindf=pd.concat([traindf,tay],axis=1)\n",
    "valdf=pd.concat([valdf,vay],axis=1)\n",
    "testdf=pd.concat([testdf,tey],axis=1)"
   ]
  },
  {
   "cell_type": "code",
   "execution_count": 15,
   "id": "d2cdc1d2",
   "metadata": {},
   "outputs": [],
   "source": [
    "traindf_final=traindf.sample(frac=1, random_state=42)\n",
    "testdf_final=testdf.sample(frac=1,random_state=42)\n",
    "valdf_final=valdf.sample(frac=1,random_state=42)"
   ]
  },
  {
   "cell_type": "code",
   "execution_count": 16,
   "id": "6c45053b",
   "metadata": {},
   "outputs": [],
   "source": [
    "tax=np.stack(traindf_final['X'].values)\n",
    "tax = np.expand_dims(tax, axis=-1)\n",
    "tay=traindf[[\"angry\",\"disgust\",\"fear\",\"happy\",\"neutral\",\"sad\",\"surprise\"]].values \n"
   ]
  },
  {
   "cell_type": "code",
   "execution_count": 17,
   "id": "b53da454",
   "metadata": {},
   "outputs": [],
   "source": [
    "vax=np.stack(valdf_final['X'].values)\n",
    "vax = np.expand_dims(vax, axis=-1) \n",
    "vay=valdf[[\"angry\",\"disgust\",\"fear\",\"happy\",\"neutral\",\"sad\",\"surprise\"]].values "
   ]
  },
  {
   "cell_type": "code",
   "execution_count": 18,
   "id": "cab01545",
   "metadata": {},
   "outputs": [],
   "source": [
    "tsx=np.stack(testdf_final['X'].values)\n",
    "tsx = np.expand_dims(tsx, axis=-1)\n",
    "tsy=testdf[[\"angry\",\"disgust\",\"fear\",\"happy\",\"neutral\",\"sad\",\"surprise\"]].values  "
   ]
  },
  {
   "cell_type": "code",
   "execution_count": 20,
   "id": "b37523a9",
   "metadata": {},
   "outputs": [
    {
     "data": {
      "text/plain": [
       "(2800, 224, 224, 1)"
      ]
     },
     "execution_count": 20,
     "metadata": {},
     "output_type": "execute_result"
    }
   ],
   "source": [
    "tax.shape"
   ]
  },
  {
   "cell_type": "code",
   "execution_count": 19,
   "id": "d36de693",
   "metadata": {},
   "outputs": [
    {
     "data": {
      "text/plain": [
       "(2800, 7)"
      ]
     },
     "execution_count": 19,
     "metadata": {},
     "output_type": "execute_result"
    }
   ],
   "source": [
    "tay.shape"
   ]
  },
  {
   "cell_type": "code",
   "execution_count": 29,
   "id": "0d2df674",
   "metadata": {},
   "outputs": [],
   "source": [
    "model = models.Sequential()\n",
    "model.add(layers.Conv2D(32, (3, 3), activation='relu', input_shape=(224, 224, 1)))\n",
    "model.add(layers.MaxPooling2D((2, 2)))\n",
    "model.add(layers.Conv2D(64, (3, 3), activation='relu'))\n",
    "model.add(layers.MaxPooling2D((2, 2)))\n",
    "model.add(layers.Conv2D(64, (3, 3), activation='relu'))\n",
    "model.add(layers.Flatten())\n",
    "model.add(layers.Dense(64, activation='relu',kernel_initializer=\"he_normal\"))\n",
    "model.add(tf.keras.layers.BatchNormalization())\n",
    "model.add(layers.Dense(7,activation='softmax'))\n",
    "\n",
    "model.compile(optimizer='rmsprop',\n",
    "              loss='categorical_crossentropy',\n",
    "              metrics=['accuracy'])"
   ]
  },
  {
   "cell_type": "code",
   "execution_count": 30,
   "id": "81b1eb90",
   "metadata": {},
   "outputs": [
    {
     "name": "stdout",
     "output_type": "stream",
     "text": [
      "Epoch 1/5\n",
      "\u001b[1m88/88\u001b[0m \u001b[32m━━━━━━━━━━━━━━━━━━━━\u001b[0m\u001b[37m\u001b[0m \u001b[1m69s\u001b[0m 761ms/step - accuracy: 0.1551 - loss: 2.0318 - val_accuracy: 0.1457 - val_loss: 2.1630\n",
      "Epoch 2/5\n",
      "\u001b[1m88/88\u001b[0m \u001b[32m━━━━━━━━━━━━━━━━━━━━\u001b[0m\u001b[37m\u001b[0m \u001b[1m65s\u001b[0m 743ms/step - accuracy: 0.1851 - loss: 1.9411 - val_accuracy: 0.1443 - val_loss: 1.9953\n",
      "Epoch 3/5\n",
      "\u001b[1m88/88\u001b[0m \u001b[32m━━━━━━━━━━━━━━━━━━━━\u001b[0m\u001b[37m\u001b[0m \u001b[1m67s\u001b[0m 762ms/step - accuracy: 0.1757 - loss: 1.9389 - val_accuracy: 0.1414 - val_loss: 3.7146\n",
      "Epoch 4/5\n",
      "\u001b[1m88/88\u001b[0m \u001b[32m━━━━━━━━━━━━━━━━━━━━\u001b[0m\u001b[37m\u001b[0m \u001b[1m75s\u001b[0m 853ms/step - accuracy: 0.2559 - loss: 1.8685 - val_accuracy: 0.1429 - val_loss: 2.3914\n",
      "Epoch 5/5\n",
      "\u001b[1m88/88\u001b[0m \u001b[32m━━━━━━━━━━━━━━━━━━━━\u001b[0m\u001b[37m\u001b[0m \u001b[1m70s\u001b[0m 790ms/step - accuracy: 0.3619 - loss: 1.6663 - val_accuracy: 0.1243 - val_loss: 2.0887\n"
     ]
    },
    {
     "data": {
      "text/plain": [
       "<matplotlib.legend.Legend at 0x25111ef3a90>"
      ]
     },
     "execution_count": 30,
     "metadata": {},
     "output_type": "execute_result"
    },
    {
     "data": {
      "image/png": "[encoded data removed]",
      "text/plain": [
       "<Figure size 640x480 with 1 Axes>"
      ]
     },
     "metadata": {},
     "output_type": "display_data"
    }
   ],
   "source": [
    "history = model.fit(tax,tay, epochs=5,validation_data=(vax, vay))\n",
    "plt.plot(history.history['accuracy'], label='accuracy')\n",
    "plt.plot(history.history['val_accuracy'], label = 'val_accuracy')\n",
    "plt.xlabel('Epoch')\n",
    "plt.ylabel('Accuracy')\n",
    "plt.ylim([0.5, 1])\n",
    "plt.legend(loc='lower right')"
   ]
  }
 ],
 "metadata": {
  "kernelspec": {
   "display_name": "py3-TF2.0",
   "language": "python",
   "name": "python3"
  },
  "language_info": {
   "codemirror_mode": {
    "name": "ipython",
    "version": 3
   },
   "file_extension": ".py",
   "mimetype": "text/x-python",
   "name": "python",
   "nbconvert_exporter": "python",
   "pygments_lexer": "ipython3",
   "version": "3.10.16"
  }
 },
 "nbformat": 4,
 "nbformat_minor": 5
}
