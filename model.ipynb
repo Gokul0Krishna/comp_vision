{
 "cells": [
  {
   "cell_type": "code",
   "execution_count": 1,
   "id": "3b1e3c6a",
   "metadata": {},
   "outputs": [],
   "source": [
    "import os \n",
    "import pandas as pd\n",
    "import numpy as np\n",
    "from PIL import Image\n",
    "import tensorflow as tf\n",
    "from tensorflow.keras import datasets, layers, models \n",
    "import matplotlib.pyplot as plt"
   ]
  },
  {
   "cell_type": "markdown",
   "id": "a94400b6",
   "metadata": {},
   "source": [
    "loading up the paths to the images"
   ]
  },
  {
   "cell_type": "code",
   "execution_count": 2,
   "id": "5d3668e9",
   "metadata": {},
   "outputs": [],
   "source": [
    "trainx=[]\n",
    "trainy=[]\n",
    "i=0\n",
    "for image in os.listdir(r\"C:\\Users\\ASUS\\OneDrive\\Desktop\\code\\datasets\\Face Mask Dataset\\Train\\WithoutMask\"):\n",
    "    image_path = os.path.join(r\"C:\\Users\\ASUS\\OneDrive\\Desktop\\code\\datasets\\Face Mask Dataset\\Train\\WithoutMask\", image)\n",
    "    i=i+1\n",
    "    trainx.append(image_path)\n",
    "    trainy.append(0)\n",
    "    if i==250:\n",
    "        break\n",
    "i=0\n",
    "for image in os.listdir(r\"C:\\Users\\ASUS\\OneDrive\\Desktop\\code\\datasets\\Face Mask Dataset\\Train\\WithMask\"):\n",
    "    image_path = os.path.join(r\"C:\\Users\\ASUS\\OneDrive\\Desktop\\code\\datasets\\Face Mask Dataset\\Train\\WithMask\", image)\n",
    "    i=i+1\n",
    "    trainx.append(image_path)\n",
    "    trainy.append(1)\n",
    "    if i==250:\n",
    "        break\n",
    "\n",
    "\n"
   ]
  },
  {
   "cell_type": "code",
   "execution_count": 91,
   "id": "e9f5330f",
   "metadata": {},
   "outputs": [
    {
     "data": {
      "text/plain": [
       "500"
      ]
     },
     "execution_count": 91,
     "metadata": {},
     "output_type": "execute_result"
    }
   ],
   "source": [
    "len(trainy)"
   ]
  },
  {
   "cell_type": "code",
   "execution_count": 3,
   "id": "ff821f07",
   "metadata": {},
   "outputs": [],
   "source": [
    "testx=[]\n",
    "testy=[]\n",
    "i=0\n",
    "for image in os.listdir(r\"C:\\Users\\ASUS\\OneDrive\\Desktop\\code\\datasets\\Face Mask Dataset\\Test\\WithoutMask\"):\n",
    "    image_path = os.path.join(r\"C:\\Users\\ASUS\\OneDrive\\Desktop\\code\\datasets\\Face Mask Dataset\\Test\\WithoutMask\", image)\n",
    "    i=i+1\n",
    "    testx.append(image_path)\n",
    "    testy.append(0)\n",
    "    if i==50:\n",
    "        break\n",
    "i=0\n",
    "for image in os.listdir(r\"C:\\Users\\ASUS\\OneDrive\\Desktop\\code\\datasets\\Face Mask Dataset\\Test\\WithMask\"):\n",
    "    image_path = os.path.join(r\"C:\\Users\\ASUS\\OneDrive\\Desktop\\code\\datasets\\Face Mask Dataset\\Test\\WithMask\", image)\n",
    "    i=i+1\n",
    "    testx.append(image_path)\n",
    "    testy.append(1)\n",
    "    if i==50:\n",
    "        break\n"
   ]
  },
  {
   "cell_type": "code",
   "execution_count": 93,
   "id": "9d54852a",
   "metadata": {},
   "outputs": [
    {
     "data": {
      "text/plain": [
       "100"
      ]
     },
     "execution_count": 93,
     "metadata": {},
     "output_type": "execute_result"
    }
   ],
   "source": [
    "len(testy)"
   ]
  },
  {
   "cell_type": "code",
   "execution_count": 4,
   "id": "d2d490c2",
   "metadata": {},
   "outputs": [],
   "source": [
    "valx=[]\n",
    "valy=[]\n",
    "i=0\n",
    "for image in os.listdir(r\"C:\\Users\\ASUS\\OneDrive\\Desktop\\code\\datasets\\Face Mask Dataset\\Validation\\WithoutMask\"):\n",
    "    image_path = os.path.join(r\"C:\\Users\\ASUS\\OneDrive\\Desktop\\code\\datasets\\Face Mask Dataset\\Validation\\WithoutMask\", image)\n",
    "    i=i+1\n",
    "    valx.append(image_path)\n",
    "    valy.append(0)\n",
    "    if i==50:\n",
    "        break\n",
    "i=0\n",
    "for image in os.listdir(r\"C:\\Users\\ASUS\\OneDrive\\Desktop\\code\\datasets\\Face Mask Dataset\\Validation\\WithMask\"):\n",
    "    image_path = os.path.join(r\"C:\\Users\\ASUS\\OneDrive\\Desktop\\code\\datasets\\Face Mask Dataset\\Validation\\WithMask\", image)\n",
    "    i=i+1\n",
    "    valx.append(image_path)\n",
    "    valy.append(1)\n",
    "    if i==50:\n",
    "        break"
   ]
  },
  {
   "cell_type": "code",
   "execution_count": 95,
   "id": "7fe7d13f",
   "metadata": {},
   "outputs": [
    {
     "data": {
      "text/plain": [
       "100"
      ]
     },
     "execution_count": 95,
     "metadata": {},
     "output_type": "execute_result"
    }
   ],
   "source": [
    "len(valy)"
   ]
  },
  {
   "cell_type": "markdown",
   "id": "7a3ed3a5",
   "metadata": {},
   "source": [
    "storing the images as reshaped arrays"
   ]
  },
  {
   "cell_type": "code",
   "execution_count": 5,
   "id": "aeca930c",
   "metadata": {},
   "outputs": [],
   "source": [
    "trianimgx=[]\n",
    "for  i in trainx:\n",
    "    image = Image.open(i)\n",
    "    resized_image = image.resize((224, 224))\n",
    "    image_array = np.array(resized_image)\n",
    "    normalized_image = image_array / 255.0\n",
    "    # batch_image = np.expand_dims(normalized_image, axis=0) only if needed\n",
    "    trianimgx.append(normalized_image)"
   ]
  },
  {
   "cell_type": "code",
   "execution_count": 6,
   "id": "bddc9d51",
   "metadata": {},
   "outputs": [],
   "source": [
    "testimgx=[]\n",
    "for  i in testx:\n",
    "    image = Image.open(i)\n",
    "    resized_image = image.resize((224, 224))\n",
    "    image_array = np.array(resized_image)\n",
    "    normalized_image = image_array / 255.0\n",
    "    # batch_image = np.expand_dims(normalized_image, axis=0) only if needed\n",
    "    testimgx.append(normalized_image)"
   ]
  },
  {
   "cell_type": "code",
   "execution_count": 7,
   "id": "27905c2b",
   "metadata": {},
   "outputs": [],
   "source": [
    "valimgx=[]\n",
    "for  i in valx:\n",
    "    image = Image.open(i)\n",
    "    resized_image = image.resize((224, 224))\n",
    "    image_array = np.array(resized_image)\n",
    "    normalized_image = image_array / 255.0\n",
    "    # batch_image = np.expand_dims(normalized_image, axis=0) only if needed\n",
    "    valimgx.append(normalized_image)"
   ]
  },
  {
   "cell_type": "markdown",
   "id": "82dd1d3d",
   "metadata": {},
   "source": [
    "storing the data in a data frame"
   ]
  },
  {
   "cell_type": "code",
   "execution_count": 8,
   "id": "82408a80",
   "metadata": {},
   "outputs": [],
   "source": [
    "traindf=pd.DataFrame({\"X\":trianimgx,\"Y\":trainy})"
   ]
  },
  {
   "cell_type": "code",
   "execution_count": 9,
   "id": "d12b00eb",
   "metadata": {},
   "outputs": [],
   "source": [
    "testdf=pd.DataFrame({\"X\":testimgx,\"Y\":testy})"
   ]
  },
  {
   "cell_type": "code",
   "execution_count": 10,
   "id": "61c44074",
   "metadata": {},
   "outputs": [],
   "source": [
    "valdf=pd.DataFrame({\"X\":valimgx,\"Y\":valy})"
   ]
  },
  {
   "cell_type": "markdown",
   "id": "29a1b2b8",
   "metadata": {},
   "source": [
    "shuffling the data"
   ]
  },
  {
   "cell_type": "code",
   "execution_count": 11,
   "id": "a5a6bf48",
   "metadata": {},
   "outputs": [],
   "source": [
    "traindf_final=traindf.sample(frac=1, random_state=42)\n",
    "testdf_final=testdf.sample(frac=1,random_state=42)\n",
    "valdf_final=valdf.sample(frac=1,random_state=42)"
   ]
  },
  {
   "cell_type": "markdown",
   "id": "3b1026b7",
   "metadata": {},
   "source": [
    "converting the data to arrays"
   ]
  },
  {
   "cell_type": "code",
   "execution_count": 12,
   "id": "63e6b7c2",
   "metadata": {},
   "outputs": [],
   "source": [
    "tax=np.stack(traindf_final['X'].values)\n",
    "tax = np.expand_dims(tax, axis=-1) \n",
    "tay=np.array(traindf_final['Y'].values, dtype=np.int64)"
   ]
  },
  {
   "cell_type": "code",
   "execution_count": 104,
   "id": "b6e4065c",
   "metadata": {},
   "outputs": [
    {
     "name": "stdout",
     "output_type": "stream",
     "text": [
      "(500, 224, 224, 3, 1) (500,)\n"
     ]
    }
   ],
   "source": [
    "print(tax.shape,tay.shape)"
   ]
  },
  {
   "cell_type": "code",
   "execution_count": 13,
   "id": "38a4bc87",
   "metadata": {},
   "outputs": [],
   "source": [
    "vax=np.stack(valdf_final['X'].values)\n",
    "vax = np.expand_dims(vax, axis=-1) \n",
    "vay=np.array(valdf_final['Y'].values, dtype=np.int64)"
   ]
  },
  {
   "cell_type": "code",
   "execution_count": 106,
   "id": "0cd4b03b",
   "metadata": {},
   "outputs": [
    {
     "name": "stdout",
     "output_type": "stream",
     "text": [
      "(100, 224, 224, 3, 1) (100,)\n"
     ]
    }
   ],
   "source": [
    "print(vax.shape,vay.shape)"
   ]
  },
  {
   "cell_type": "markdown",
   "id": "db4a99d5",
   "metadata": {},
   "source": [
    "model design"
   ]
  },
  {
   "cell_type": "code",
   "execution_count": 26,
   "id": "621b6284",
   "metadata": {},
   "outputs": [],
   "source": [
    "model = models.Sequential()\n",
    "model.add(layers.Conv2D(32, (3, 3), activation='relu', input_shape=(224, 224, 3)))\n",
    "model.add(layers.MaxPooling2D((2, 2)))\n",
    "model.add(layers.Conv2D(64, (3, 3), activation='relu'))\n",
    "model.add(layers.MaxPooling2D((2, 2)))\n",
    "model.add(layers.Conv2D(64, (3, 3), activation='relu'))\n",
    "model.add(layers.Flatten())\n",
    "model.add(layers.Dense(64, activation='relu'))\n",
    "model.add(layers.Dropout(0.3))\n",
    "model.add(layers.Dense(2,activation='softmax'))\n",
    "\n",
    "model.compile(optimizer='rmsprop',\n",
    "              loss='sparse_categorical_crossentropy',\n",
    "              metrics=['accuracy'])"
   ]
  },
  {
   "cell_type": "code",
   "execution_count": 21,
   "id": "ef125c1f",
   "metadata": {},
   "outputs": [
    {
     "data": {
      "text/html": [
       "<pre style=\"white-space:pre;overflow-x:auto;line-height:normal;font-family:Menlo,'DejaVu Sans Mono',consolas,'Courier New',monospace\"><span style=\"font-weight: bold\">Model: \"sequential_2\"</span>\n",
       "</pre>\n"
      ],
      "text/plain": [
       "\u001b[1mModel: \"sequential_2\"\u001b[0m\n"
      ]
     },
     "metadata": {},
     "output_type": "display_data"
    },
    {
     "data": {
      "text/html": [
       "<pre style=\"white-space:pre;overflow-x:auto;line-height:normal;font-family:Menlo,'DejaVu Sans Mono',consolas,'Courier New',monospace\">┏━━━━━━━━━━━━━━━━━━━━━━━━━━━━━━━━━┳━━━━━━━━━━━━━━━━━━━━━━━━┳━━━━━━━━━━━━━━━┓\n",
       "┃<span style=\"font-weight: bold\"> Layer (type)                    </span>┃<span style=\"font-weight: bold\"> Output Shape           </span>┃<span style=\"font-weight: bold\">       Param # </span>┃\n",
       "┡━━━━━━━━━━━━━━━━━━━━━━━━━━━━━━━━━╇━━━━━━━━━━━━━━━━━━━━━━━━╇━━━━━━━━━━━━━━━┩\n",
       "│ conv2d_6 (<span style=\"color: #0087ff; text-decoration-color: #0087ff\">Conv2D</span>)               │ (<span style=\"color: #00d7ff; text-decoration-color: #00d7ff\">None</span>, <span style=\"color: #00af00; text-decoration-color: #00af00\">222</span>, <span style=\"color: #00af00; text-decoration-color: #00af00\">222</span>, <span style=\"color: #00af00; text-decoration-color: #00af00\">32</span>)   │           <span style=\"color: #00af00; text-decoration-color: #00af00\">896</span> │\n",
       "├─────────────────────────────────┼────────────────────────┼───────────────┤\n",
       "│ max_pooling2d_4 (<span style=\"color: #0087ff; text-decoration-color: #0087ff\">MaxPooling2D</span>)  │ (<span style=\"color: #00d7ff; text-decoration-color: #00d7ff\">None</span>, <span style=\"color: #00af00; text-decoration-color: #00af00\">111</span>, <span style=\"color: #00af00; text-decoration-color: #00af00\">111</span>, <span style=\"color: #00af00; text-decoration-color: #00af00\">32</span>)   │             <span style=\"color: #00af00; text-decoration-color: #00af00\">0</span> │\n",
       "├─────────────────────────────────┼────────────────────────┼───────────────┤\n",
       "│ conv2d_7 (<span style=\"color: #0087ff; text-decoration-color: #0087ff\">Conv2D</span>)               │ (<span style=\"color: #00d7ff; text-decoration-color: #00d7ff\">None</span>, <span style=\"color: #00af00; text-decoration-color: #00af00\">109</span>, <span style=\"color: #00af00; text-decoration-color: #00af00\">109</span>, <span style=\"color: #00af00; text-decoration-color: #00af00\">64</span>)   │        <span style=\"color: #00af00; text-decoration-color: #00af00\">18,496</span> │\n",
       "├─────────────────────────────────┼────────────────────────┼───────────────┤\n",
       "│ max_pooling2d_5 (<span style=\"color: #0087ff; text-decoration-color: #0087ff\">MaxPooling2D</span>)  │ (<span style=\"color: #00d7ff; text-decoration-color: #00d7ff\">None</span>, <span style=\"color: #00af00; text-decoration-color: #00af00\">54</span>, <span style=\"color: #00af00; text-decoration-color: #00af00\">54</span>, <span style=\"color: #00af00; text-decoration-color: #00af00\">64</span>)     │             <span style=\"color: #00af00; text-decoration-color: #00af00\">0</span> │\n",
       "├─────────────────────────────────┼────────────────────────┼───────────────┤\n",
       "│ conv2d_8 (<span style=\"color: #0087ff; text-decoration-color: #0087ff\">Conv2D</span>)               │ (<span style=\"color: #00d7ff; text-decoration-color: #00d7ff\">None</span>, <span style=\"color: #00af00; text-decoration-color: #00af00\">52</span>, <span style=\"color: #00af00; text-decoration-color: #00af00\">52</span>, <span style=\"color: #00af00; text-decoration-color: #00af00\">64</span>)     │        <span style=\"color: #00af00; text-decoration-color: #00af00\">36,928</span> │\n",
       "├─────────────────────────────────┼────────────────────────┼───────────────┤\n",
       "│ flatten_2 (<span style=\"color: #0087ff; text-decoration-color: #0087ff\">Flatten</span>)             │ (<span style=\"color: #00d7ff; text-decoration-color: #00d7ff\">None</span>, <span style=\"color: #00af00; text-decoration-color: #00af00\">173056</span>)         │             <span style=\"color: #00af00; text-decoration-color: #00af00\">0</span> │\n",
       "├─────────────────────────────────┼────────────────────────┼───────────────┤\n",
       "│ dense_3 (<span style=\"color: #0087ff; text-decoration-color: #0087ff\">Dense</span>)                 │ (<span style=\"color: #00d7ff; text-decoration-color: #00d7ff\">None</span>, <span style=\"color: #00af00; text-decoration-color: #00af00\">64</span>)             │    <span style=\"color: #00af00; text-decoration-color: #00af00\">11,075,648</span> │\n",
       "├─────────────────────────────────┼────────────────────────┼───────────────┤\n",
       "│ dropout (<span style=\"color: #0087ff; text-decoration-color: #0087ff\">Dropout</span>)               │ (<span style=\"color: #00d7ff; text-decoration-color: #00d7ff\">None</span>, <span style=\"color: #00af00; text-decoration-color: #00af00\">64</span>)             │             <span style=\"color: #00af00; text-decoration-color: #00af00\">0</span> │\n",
       "├─────────────────────────────────┼────────────────────────┼───────────────┤\n",
       "│ dense_4 (<span style=\"color: #0087ff; text-decoration-color: #0087ff\">Dense</span>)                 │ (<span style=\"color: #00d7ff; text-decoration-color: #00d7ff\">None</span>, <span style=\"color: #00af00; text-decoration-color: #00af00\">2</span>)              │           <span style=\"color: #00af00; text-decoration-color: #00af00\">130</span> │\n",
       "└─────────────────────────────────┴────────────────────────┴───────────────┘\n",
       "</pre>\n"
      ],
      "text/plain": [
       "┏━━━━━━━━━━━━━━━━━━━━━━━━━━━━━━━━━┳━━━━━━━━━━━━━━━━━━━━━━━━┳━━━━━━━━━━━━━━━┓\n",
       "┃\u001b[1m \u001b[0m\u001b[1mLayer (type)                   \u001b[0m\u001b[1m \u001b[0m┃\u001b[1m \u001b[0m\u001b[1mOutput Shape          \u001b[0m\u001b[1m \u001b[0m┃\u001b[1m \u001b[0m\u001b[1m      Param #\u001b[0m\u001b[1m \u001b[0m┃\n",
       "┡━━━━━━━━━━━━━━━━━━━━━━━━━━━━━━━━━╇━━━━━━━━━━━━━━━━━━━━━━━━╇━━━━━━━━━━━━━━━┩\n",
       "│ conv2d_6 (\u001b[38;5;33mConv2D\u001b[0m)               │ (\u001b[38;5;45mNone\u001b[0m, \u001b[38;5;34m222\u001b[0m, \u001b[38;5;34m222\u001b[0m, \u001b[38;5;34m32\u001b[0m)   │           \u001b[38;5;34m896\u001b[0m │\n",
       "├─────────────────────────────────┼────────────────────────┼───────────────┤\n",
       "│ max_pooling2d_4 (\u001b[38;5;33mMaxPooling2D\u001b[0m)  │ (\u001b[38;5;45mNone\u001b[0m, \u001b[38;5;34m111\u001b[0m, \u001b[38;5;34m111\u001b[0m, \u001b[38;5;34m32\u001b[0m)   │             \u001b[38;5;34m0\u001b[0m │\n",
       "├─────────────────────────────────┼────────────────────────┼───────────────┤\n",
       "│ conv2d_7 (\u001b[38;5;33mConv2D\u001b[0m)               │ (\u001b[38;5;45mNone\u001b[0m, \u001b[38;5;34m109\u001b[0m, \u001b[38;5;34m109\u001b[0m, \u001b[38;5;34m64\u001b[0m)   │        \u001b[38;5;34m18,496\u001b[0m │\n",
       "├─────────────────────────────────┼────────────────────────┼───────────────┤\n",
       "│ max_pooling2d_5 (\u001b[38;5;33mMaxPooling2D\u001b[0m)  │ (\u001b[38;5;45mNone\u001b[0m, \u001b[38;5;34m54\u001b[0m, \u001b[38;5;34m54\u001b[0m, \u001b[38;5;34m64\u001b[0m)     │             \u001b[38;5;34m0\u001b[0m │\n",
       "├─────────────────────────────────┼────────────────────────┼───────────────┤\n",
       "│ conv2d_8 (\u001b[38;5;33mConv2D\u001b[0m)               │ (\u001b[38;5;45mNone\u001b[0m, \u001b[38;5;34m52\u001b[0m, \u001b[38;5;34m52\u001b[0m, \u001b[38;5;34m64\u001b[0m)     │        \u001b[38;5;34m36,928\u001b[0m │\n",
       "├─────────────────────────────────┼────────────────────────┼───────────────┤\n",
       "│ flatten_2 (\u001b[38;5;33mFlatten\u001b[0m)             │ (\u001b[38;5;45mNone\u001b[0m, \u001b[38;5;34m173056\u001b[0m)         │             \u001b[38;5;34m0\u001b[0m │\n",
       "├─────────────────────────────────┼────────────────────────┼───────────────┤\n",
       "│ dense_3 (\u001b[38;5;33mDense\u001b[0m)                 │ (\u001b[38;5;45mNone\u001b[0m, \u001b[38;5;34m64\u001b[0m)             │    \u001b[38;5;34m11,075,648\u001b[0m │\n",
       "├─────────────────────────────────┼────────────────────────┼───────────────┤\n",
       "│ dropout (\u001b[38;5;33mDropout\u001b[0m)               │ (\u001b[38;5;45mNone\u001b[0m, \u001b[38;5;34m64\u001b[0m)             │             \u001b[38;5;34m0\u001b[0m │\n",
       "├─────────────────────────────────┼────────────────────────┼───────────────┤\n",
       "│ dense_4 (\u001b[38;5;33mDense\u001b[0m)                 │ (\u001b[38;5;45mNone\u001b[0m, \u001b[38;5;34m2\u001b[0m)              │           \u001b[38;5;34m130\u001b[0m │\n",
       "└─────────────────────────────────┴────────────────────────┴───────────────┘\n"
      ]
     },
     "metadata": {},
     "output_type": "display_data"
    },
    {
     "data": {
      "text/html": [
       "<pre style=\"white-space:pre;overflow-x:auto;line-height:normal;font-family:Menlo,'DejaVu Sans Mono',consolas,'Courier New',monospace\"><span style=\"font-weight: bold\"> Total params: </span><span style=\"color: #00af00; text-decoration-color: #00af00\">11,132,098</span> (42.47 MB)\n",
       "</pre>\n"
      ],
      "text/plain": [
       "\u001b[1m Total params: \u001b[0m\u001b[38;5;34m11,132,098\u001b[0m (42.47 MB)\n"
      ]
     },
     "metadata": {},
     "output_type": "display_data"
    },
    {
     "data": {
      "text/html": [
       "<pre style=\"white-space:pre;overflow-x:auto;line-height:normal;font-family:Menlo,'DejaVu Sans Mono',consolas,'Courier New',monospace\"><span style=\"font-weight: bold\"> Trainable params: </span><span style=\"color: #00af00; text-decoration-color: #00af00\">11,132,098</span> (42.47 MB)\n",
       "</pre>\n"
      ],
      "text/plain": [
       "\u001b[1m Trainable params: \u001b[0m\u001b[38;5;34m11,132,098\u001b[0m (42.47 MB)\n"
      ]
     },
     "metadata": {},
     "output_type": "display_data"
    },
    {
     "data": {
      "text/html": [
       "<pre style=\"white-space:pre;overflow-x:auto;line-height:normal;font-family:Menlo,'DejaVu Sans Mono',consolas,'Courier New',monospace\"><span style=\"font-weight: bold\"> Non-trainable params: </span><span style=\"color: #00af00; text-decoration-color: #00af00\">0</span> (0.00 B)\n",
       "</pre>\n"
      ],
      "text/plain": [
       "\u001b[1m Non-trainable params: \u001b[0m\u001b[38;5;34m0\u001b[0m (0.00 B)\n"
      ]
     },
     "metadata": {},
     "output_type": "display_data"
    }
   ],
   "source": [
    "model.summary()"
   ]
  },
  {
   "cell_type": "markdown",
   "id": "684e6610",
   "metadata": {},
   "source": [
    "training the model"
   ]
  },
  {
   "cell_type": "code",
   "execution_count": 27,
   "id": "3e14feac",
   "metadata": {},
   "outputs": [
    {
     "name": "stdout",
     "output_type": "stream",
     "text": [
      "Epoch 1/6\n",
      "\u001b[1m16/16\u001b[0m \u001b[32m━━━━━━━━━━━━━━━━━━━━\u001b[0m\u001b[37m\u001b[0m \u001b[1m13s\u001b[0m 766ms/step - accuracy: 0.6180 - loss: 1.2790 - val_accuracy: 0.9100 - val_loss: 0.4017\n",
      "Epoch 2/6\n",
      "\u001b[1m16/16\u001b[0m \u001b[32m━━━━━━━━━━━━━━━━━━━━\u001b[0m\u001b[37m\u001b[0m \u001b[1m12s\u001b[0m 738ms/step - accuracy: 0.8211 - loss: 0.3806 - val_accuracy: 0.8400 - val_loss: 0.2959\n",
      "Epoch 3/6\n",
      "\u001b[1m16/16\u001b[0m \u001b[32m━━━━━━━━━━━━━━━━━━━━\u001b[0m\u001b[37m\u001b[0m \u001b[1m13s\u001b[0m 788ms/step - accuracy: 0.8516 - loss: 0.3896 - val_accuracy: 0.8600 - val_loss: 0.4536\n",
      "Epoch 4/6\n",
      "\u001b[1m16/16\u001b[0m \u001b[32m━━━━━━━━━━━━━━━━━━━━\u001b[0m\u001b[37m\u001b[0m \u001b[1m12s\u001b[0m 765ms/step - accuracy: 0.9392 - loss: 0.1742 - val_accuracy: 0.9800 - val_loss: 0.0953\n",
      "Epoch 5/6\n",
      "\u001b[1m16/16\u001b[0m \u001b[32m━━━━━━━━━━━━━━━━━━━━\u001b[0m\u001b[37m\u001b[0m \u001b[1m13s\u001b[0m 783ms/step - accuracy: 0.9134 - loss: 0.2235 - val_accuracy: 0.9500 - val_loss: 0.2617\n",
      "Epoch 6/6\n",
      "\u001b[1m16/16\u001b[0m \u001b[32m━━━━━━━━━━━━━━━━━━━━\u001b[0m\u001b[37m\u001b[0m \u001b[1m13s\u001b[0m 780ms/step - accuracy: 0.9491 - loss: 0.1447 - val_accuracy: 0.9800 - val_loss: 0.1017\n"
     ]
    }
   ],
   "source": [
    "history = model.fit(tax,tay, epochs=6,validation_data=(vax, vay))"
   ]
  },
  {
   "cell_type": "code",
   "execution_count": 28,
   "id": "f6d16655",
   "metadata": {},
   "outputs": [
    {
     "data": {
      "text/plain": [
       "<matplotlib.legend.Legend at 0x19a366ddc00>"
      ]
     },
     "execution_count": 28,
     "metadata": {},
     "output_type": "execute_result"
    },
    {
     "data": {
      "image/png": "[encoded data removed]",
      "text/plain": [
       "<Figure size 640x480 with 1 Axes>"
      ]
     },
     "metadata": {},
     "output_type": "display_data"
    }
   ],
   "source": [
    "plt.plot(history.history['accuracy'], label='accuracy')\n",
    "plt.plot(history.history['val_accuracy'], label = 'val_accuracy')\n",
    "plt.xlabel('Epoch')\n",
    "plt.ylabel('Accuracy')\n",
    "plt.ylim([0.5, 1])\n",
    "plt.legend(loc='lower right')"
   ]
  },
  {
   "cell_type": "markdown",
   "id": "4e479ef7",
   "metadata": {},
   "source": [
    "testing the model"
   ]
  },
  {
   "cell_type": "code",
   "execution_count": 29,
   "id": "5f118011",
   "metadata": {},
   "outputs": [
    {
     "name": "stdout",
     "output_type": "stream",
     "text": [
      "4/4 - 1s - 135ms/step - accuracy: 0.9700 - loss: 0.1023\n"
     ]
    }
   ],
   "source": [
    "tsx=np.stack(testdf_final['X'].values)\n",
    "tsx = np.expand_dims(tsx, axis=-1) \n",
    "tsy=np.array(testdf_final['Y'].values, dtype=np.int64)\n",
    "test_loss, test_acc = model.evaluate(tsx,tsy, verbose=2)"
   ]
  },
  {
   "cell_type": "code",
   "execution_count": 30,
   "id": "37917c1b",
   "metadata": {},
   "outputs": [
    {
     "name": "stdout",
     "output_type": "stream",
     "text": [
      "0.9700000286102295\n"
     ]
    }
   ],
   "source": [
    "print(test_acc)"
   ]
  },
  {
   "cell_type": "code",
   "execution_count": 31,
   "id": "7ebda553",
   "metadata": {},
   "outputs": [
    {
     "name": "stderr",
     "output_type": "stream",
     "text": [
      "WARNING:absl:You are saving your model as an HDF5 file via `model.save()` or `keras.saving.save_model(model)`. This file format is considered legacy. We recommend using instead the native Keras format, e.g. `model.save('my_model.keras')` or `keras.saving.save_model(model, 'my_model.keras')`. \n"
     ]
    }
   ],
   "source": [
    "model.save('mask.h5')"
   ]
  }
 ],
 "metadata": {
  "kernelspec": {
   "display_name": "py3-TF2.0",
   "language": "python",
   "name": "python3"
  },
  "language_info": {
   "codemirror_mode": {
    "name": "ipython",
    "version": 3
   },
   "file_extension": ".py",
   "mimetype": "text/x-python",
   "name": "python",
   "nbconvert_exporter": "python",
   "pygments_lexer": "ipython3",
   "version": "3.10.16"
  }
 },
 "nbformat": 4,
 "nbformat_minor": 5
}
